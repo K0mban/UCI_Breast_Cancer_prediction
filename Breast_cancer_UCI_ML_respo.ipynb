{
  "nbformat": 4,
  "nbformat_minor": 0,
  "metadata": {
    "colab": {
      "name": "Breast_cancer_UCI_ML_respo.ipynb",
      "provenance": []
    },
    "kernelspec": {
      "name": "python3",
      "display_name": "Python 3"
    },
    "language_info": {
      "name": "python"
    }
  },
  "cells": [
    {
      "cell_type": "markdown",
      "source": [
        "Breast cancer prediction using Logistic Regression"
      ],
      "metadata": {
        "id": "h2O1Q6uD6s1e"
      }
    },
    {
      "cell_type": "code",
      "execution_count": 17,
      "metadata": {
        "id": "h6l8JnwV5zDc"
      },
      "outputs": [],
      "source": [
        "#importing libraries\n",
        "\n",
        "import pandas as pd\n",
        "import numpy as np\n"
      ]
    },
    {
      "cell_type": "code",
      "source": [
        "#import the dataset\n",
        "dataset = pd.read_csv(\"breast_cancer.csv\")\n",
        "X = dataset.iloc[:,1:-1].values\n",
        "y = dataset.iloc[:,-1].values"
      ],
      "metadata": {
        "id": "OwI2Yz-Y6Fql"
      },
      "execution_count": 18,
      "outputs": []
    },
    {
      "cell_type": "code",
      "source": [
        "#split the dataset into the train \n",
        "from sklearn.model_selection import train_test_split\n",
        "\n",
        "X_test,X_train,y_test,y_train = train_test_split(X,y, test_size=0.25, random_state=0)\n"
      ],
      "metadata": {
        "id": "FCo714ecCp2_"
      },
      "execution_count": 19,
      "outputs": []
    },
    {
      "cell_type": "code",
      "source": [
        "#Training the Logistic Regression model\n",
        "\n",
        "from sklearn.linear_model import LogisticRegression\n",
        "classifier= LogisticRegression(random_state=0)\n",
        "classifier.fit(X_train,y_train)\n"
      ],
      "metadata": {
        "colab": {
          "base_uri": "https://localhost:8080/"
        },
        "id": "RXolqn6AZiNx",
        "outputId": "7a22901b-931a-4fb9-9855-f51d45ad8e4d"
      },
      "execution_count": 20,
      "outputs": [
        {
          "output_type": "execute_result",
          "data": {
            "text/plain": [
              "LogisticRegression(random_state=0)"
            ]
          },
          "metadata": {},
          "execution_count": 20
        }
      ]
    },
    {
      "cell_type": "code",
      "source": [
        "#predic test set result\n",
        "\n",
        "y_pred = classifier.predict(X_test)\n"
      ],
      "metadata": {
        "id": "Yp2xM35WanhF"
      },
      "execution_count": 21,
      "outputs": []
    },
    {
      "cell_type": "code",
      "source": [
        "#making a confusion matric\n",
        "\n",
        "from sklearn.metrics import confusion_matrix\n",
        "\n",
        "cm = confusion_matrix(y_test, y_pred)\n",
        "\n",
        "cm\n"
      ],
      "metadata": {
        "colab": {
          "base_uri": "https://localhost:8080/"
        },
        "id": "8KMidwfFbiBU",
        "outputId": "573d4a6e-4b3d-49a6-9460-8f3def3815c1"
      },
      "execution_count": 22,
      "outputs": [
        {
          "output_type": "execute_result",
          "data": {
            "text/plain": [
              "array([[327,  10],\n",
              "       [  8, 167]])"
            ]
          },
          "metadata": {},
          "execution_count": 22
        }
      ]
    },
    {
      "cell_type": "code",
      "source": [
        "#comparing the accuracy with kfold validation\n",
        "\n",
        "from sklearn.model_selection import cross_val_score\n",
        "accuracy = cross_val_score(estimator= classifier,X=X_train, y=y_train, cv=10)\n",
        "print(\"accuracy:{:.2f} %\".format(accuracy.mean()*100))\n",
        "\n",
        "print(\"STD:{:.2f} %\".format(accuracy.std()*100))"
      ],
      "metadata": {
        "colab": {
          "base_uri": "https://localhost:8080/"
        },
        "id": "b8R9JCnpcYoI",
        "outputId": "225f3e95-7615-42f2-f826-9038fbab7146"
      },
      "execution_count": 23,
      "outputs": [
        {
          "output_type": "stream",
          "name": "stdout",
          "text": [
            "accuracy:95.29 %\n",
            "STD:5.13 %\n"
          ]
        }
      ]
    }
  ]
}